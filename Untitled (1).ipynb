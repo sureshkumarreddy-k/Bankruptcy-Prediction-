{
 "cells": [
  {
   "cell_type": "markdown",
   "id": "46115b55",
   "metadata": {},
   "source": [
    "# Data Loading"
   ]
  },
  {
   "cell_type": "code",
   "execution_count": 2,
   "id": "5fd8676a",
   "metadata": {},
   "outputs": [],
   "source": [
    "import pandas\n",
    "df1 = pandas.read_csv(\"C:/Users/sures/OneDrive/Desktop/dataset/train/1st_yr.csv\")\n",
    "df2 = pandas.read_csv(\"C:/Users/sures/OneDrive/Desktop/dataset/train/2nd_yr.csv\")\n",
    "df3 = pandas.read_csv(\"C:/Users/sures/OneDrive/Desktop/dataset/train/3rd_yr.csv\")\n",
    "df4 = pandas.read_csv(\"C:/Users/sures/OneDrive/Desktop/dataset/train/4th_yr.csv\")\n",
    "df5 = pandas.read_csv(\"C:/Users/sures/OneDrive/Desktop/dataset/train/5th_yr.csv\")"
   ]
  },
  {
   "cell_type": "markdown",
   "id": "44e96cd1",
   "metadata": {},
   "source": [
    "# Increase Train data"
   ]
  },
  {
   "cell_type": "code",
   "execution_count": 3,
   "id": "fdd46ef1",
   "metadata": {},
   "outputs": [],
   "source": [
    "result = pandas.concat([df1,df2,df3,df4,df5], axis=0)\n",
    "result.reset_index(drop=True, inplace=True)"
   ]
  },
  {
   "cell_type": "code",
   "execution_count": 4,
   "id": "2e5dd86b",
   "metadata": {},
   "outputs": [
    {
     "data": {
      "text/html": [
       "<div>\n",
       "<style scoped>\n",
       "    .dataframe tbody tr th:only-of-type {\n",
       "        vertical-align: middle;\n",
       "    }\n",
       "\n",
       "    .dataframe tbody tr th {\n",
       "        vertical-align: top;\n",
       "    }\n",
       "\n",
       "    .dataframe thead th {\n",
       "        text-align: right;\n",
       "    }\n",
       "</style>\n",
       "<table border=\"1\" class=\"dataframe\">\n",
       "  <thead>\n",
       "    <tr style=\"text-align: right;\">\n",
       "      <th></th>\n",
       "      <th>X1</th>\n",
       "      <th>X2</th>\n",
       "      <th>X3</th>\n",
       "      <th>X4</th>\n",
       "      <th>X5</th>\n",
       "      <th>X6</th>\n",
       "      <th>X7</th>\n",
       "      <th>X8</th>\n",
       "      <th>X9</th>\n",
       "      <th>X10</th>\n",
       "      <th>...</th>\n",
       "      <th>X57</th>\n",
       "      <th>X58</th>\n",
       "      <th>X59</th>\n",
       "      <th>X60</th>\n",
       "      <th>X61</th>\n",
       "      <th>X62</th>\n",
       "      <th>X63</th>\n",
       "      <th>X64</th>\n",
       "      <th>Bankrupt</th>\n",
       "      <th>Id</th>\n",
       "    </tr>\n",
       "  </thead>\n",
       "  <tbody>\n",
       "    <tr>\n",
       "      <th>0</th>\n",
       "      <td>0.037155</td>\n",
       "      <td>0.75222</td>\n",
       "      <td>-0.0352</td>\n",
       "      <td>0.93331</td>\n",
       "      <td>-69.845</td>\n",
       "      <td>0.037155</td>\n",
       "      <td>0.050562</td>\n",
       "      <td>0.3294</td>\n",
       "      <td>1.0353</td>\n",
       "      <td>0.24778</td>\n",
       "      <td>...</td>\n",
       "      <td>0.14995</td>\n",
       "      <td>0.96592</td>\n",
       "      <td>0.9056</td>\n",
       "      <td>5.9449</td>\n",
       "      <td>21.098</td>\n",
       "      <td>84.685</td>\n",
       "      <td>4.3101</td>\n",
       "      <td>4.4838</td>\n",
       "      <td>0</td>\n",
       "      <td>3735</td>\n",
       "    </tr>\n",
       "    <tr>\n",
       "      <th>1</th>\n",
       "      <td>0.000631</td>\n",
       "      <td>0.60211</td>\n",
       "      <td>0.022193</td>\n",
       "      <td>1.0369</td>\n",
       "      <td>-68.147</td>\n",
       "      <td>0.000631</td>\n",
       "      <td>0.004723</td>\n",
       "      <td>0.53684</td>\n",
       "      <td>0.97365</td>\n",
       "      <td>0.32324</td>\n",
       "      <td>...</td>\n",
       "      <td>0.001952</td>\n",
       "      <td>1.0271</td>\n",
       "      <td>0.0</td>\n",
       "      <td>5.1918</td>\n",
       "      <td>6.1685</td>\n",
       "      <td>137.1</td>\n",
       "      <td>2.6622</td>\n",
       "      <td>4.2665</td>\n",
       "      <td>1</td>\n",
       "      <td>4564</td>\n",
       "    </tr>\n",
       "    <tr>\n",
       "      <th>2</th>\n",
       "      <td>0.22498</td>\n",
       "      <td>0.45494</td>\n",
       "      <td>0.35625</td>\n",
       "      <td>1.7831</td>\n",
       "      <td>4.9358</td>\n",
       "      <td>0.22498</td>\n",
       "      <td>0.22498</td>\n",
       "      <td>1.1341</td>\n",
       "      <td>1.2073</td>\n",
       "      <td>0.51592</td>\n",
       "      <td>...</td>\n",
       "      <td>0.43607</td>\n",
       "      <td>0.82829</td>\n",
       "      <td>0.0</td>\n",
       "      <td>3.1876</td>\n",
       "      <td>2.5137</td>\n",
       "      <td>151.92</td>\n",
       "      <td>2.4025</td>\n",
       "      <td>5.7889</td>\n",
       "      <td>0</td>\n",
       "      <td>6239</td>\n",
       "    </tr>\n",
       "    <tr>\n",
       "      <th>3</th>\n",
       "      <td>0.086206</td>\n",
       "      <td>0.92638</td>\n",
       "      <td>0.059124</td>\n",
       "      <td>1.0848</td>\n",
       "      <td>-58.144</td>\n",
       "      <td>-0.12592</td>\n",
       "      <td>0.095948</td>\n",
       "      <td>0.079469</td>\n",
       "      <td>1.509</td>\n",
       "      <td>0.073618</td>\n",
       "      <td>...</td>\n",
       "      <td>1.171</td>\n",
       "      <td>0.93878</td>\n",
       "      <td>2.8634</td>\n",
       "      <td>5.8202</td>\n",
       "      <td>3.9307</td>\n",
       "      <td>168.67</td>\n",
       "      <td>2.1639</td>\n",
       "      <td>6.1962</td>\n",
       "      <td>0</td>\n",
       "      <td>5877</td>\n",
       "    </tr>\n",
       "    <tr>\n",
       "      <th>4</th>\n",
       "      <td>0.11322</td>\n",
       "      <td>0.28925</td>\n",
       "      <td>0.37193</td>\n",
       "      <td>3.2601</td>\n",
       "      <td>79.415</td>\n",
       "      <td>0</td>\n",
       "      <td>0.11322</td>\n",
       "      <td>2.4572</td>\n",
       "      <td>1.736</td>\n",
       "      <td>0.71075</td>\n",
       "      <td>...</td>\n",
       "      <td>0.1593</td>\n",
       "      <td>0.73302</td>\n",
       "      <td>0.038676</td>\n",
       "      <td>15.73</td>\n",
       "      <td>7.241</td>\n",
       "      <td>34.601</td>\n",
       "      <td>10.549</td>\n",
       "      <td>3.7453</td>\n",
       "      <td>0</td>\n",
       "      <td>2507</td>\n",
       "    </tr>\n",
       "    <tr>\n",
       "      <th>...</th>\n",
       "      <td>...</td>\n",
       "      <td>...</td>\n",
       "      <td>...</td>\n",
       "      <td>...</td>\n",
       "      <td>...</td>\n",
       "      <td>...</td>\n",
       "      <td>...</td>\n",
       "      <td>...</td>\n",
       "      <td>...</td>\n",
       "      <td>...</td>\n",
       "      <td>...</td>\n",
       "      <td>...</td>\n",
       "      <td>...</td>\n",
       "      <td>...</td>\n",
       "      <td>...</td>\n",
       "      <td>...</td>\n",
       "      <td>...</td>\n",
       "      <td>...</td>\n",
       "      <td>...</td>\n",
       "      <td>...</td>\n",
       "      <td>...</td>\n",
       "    </tr>\n",
       "    <tr>\n",
       "      <th>35445</th>\n",
       "      <td>-0.013118</td>\n",
       "      <td>1.2144</td>\n",
       "      <td>-0.20539</td>\n",
       "      <td>0.82064</td>\n",
       "      <td>-79.495</td>\n",
       "      <td>-0.21783</td>\n",
       "      <td>-0.000674</td>\n",
       "      <td>-0.17657</td>\n",
       "      <td>2.3353</td>\n",
       "      <td>-0.21443</td>\n",
       "      <td>...</td>\n",
       "      <td>0.061177</td>\n",
       "      <td>1.0002</td>\n",
       "      <td>-0.19702</td>\n",
       "      <td>9.039</td>\n",
       "      <td>3.9025</td>\n",
       "      <td>178.99</td>\n",
       "      <td>2.0393</td>\n",
       "      <td>38.772</td>\n",
       "      <td>0</td>\n",
       "      <td>2337</td>\n",
       "    </tr>\n",
       "    <tr>\n",
       "      <th>35446</th>\n",
       "      <td>0.034599</td>\n",
       "      <td>0.12484</td>\n",
       "      <td>0.82262</td>\n",
       "      <td>7.5896</td>\n",
       "      <td>112.12</td>\n",
       "      <td>0</td>\n",
       "      <td>0.050697</td>\n",
       "      <td>7.0105</td>\n",
       "      <td>1.5262</td>\n",
       "      <td>0.87516</td>\n",
       "      <td>...</td>\n",
       "      <td>0.039534</td>\n",
       "      <td>0.96703</td>\n",
       "      <td>0</td>\n",
       "      <td>4.0262</td>\n",
       "      <td>4.1955</td>\n",
       "      <td>29.856</td>\n",
       "      <td>12.226</td>\n",
       "      <td>29.045</td>\n",
       "      <td>0</td>\n",
       "      <td>2747</td>\n",
       "    </tr>\n",
       "    <tr>\n",
       "      <th>35447</th>\n",
       "      <td>0.050174</td>\n",
       "      <td>0.39413</td>\n",
       "      <td>0.23275</td>\n",
       "      <td>1.8142</td>\n",
       "      <td>44.121</td>\n",
       "      <td>0.41688</td>\n",
       "      <td>0.06309</td>\n",
       "      <td>1.5372</td>\n",
       "      <td>0.77055</td>\n",
       "      <td>0.60587</td>\n",
       "      <td>...</td>\n",
       "      <td>0</td>\n",
       "      <td>0.8561</td>\n",
       "      <td>0.1787</td>\n",
       "      <td>5.1993</td>\n",
       "      <td>2.111</td>\n",
       "      <td>135.41</td>\n",
       "      <td>2.6956</td>\n",
       "      <td>1.6007</td>\n",
       "      <td>0</td>\n",
       "      <td>2982</td>\n",
       "    </tr>\n",
       "    <tr>\n",
       "      <th>35448</th>\n",
       "      <td>0.54104</td>\n",
       "      <td>0.43732</td>\n",
       "      <td>0.40358</td>\n",
       "      <td>2.0387</td>\n",
       "      <td>1.7298</td>\n",
       "      <td>0</td>\n",
       "      <td>0.54104</td>\n",
       "      <td>1.2866</td>\n",
       "      <td>2.1048</td>\n",
       "      <td>0.56268</td>\n",
       "      <td>...</td>\n",
       "      <td>0.96156</td>\n",
       "      <td>0.74382</td>\n",
       "      <td>0</td>\n",
       "      <td>5.7473</td>\n",
       "      <td>13.612</td>\n",
       "      <td>67.378</td>\n",
       "      <td>5.4172</td>\n",
       "      <td>10.125</td>\n",
       "      <td>0</td>\n",
       "      <td>1974</td>\n",
       "    </tr>\n",
       "    <tr>\n",
       "      <th>35449</th>\n",
       "      <td>0.089495</td>\n",
       "      <td>0.51413</td>\n",
       "      <td>0.30029</td>\n",
       "      <td>1.5841</td>\n",
       "      <td>-6.6717</td>\n",
       "      <td>0</td>\n",
       "      <td>0.11211</td>\n",
       "      <td>0.94504</td>\n",
       "      <td>4.6488</td>\n",
       "      <td>0.48587</td>\n",
       "      <td>...</td>\n",
       "      <td>0.1842</td>\n",
       "      <td>0.976</td>\n",
       "      <td>0</td>\n",
       "      <td>12.266</td>\n",
       "      <td>11.183</td>\n",
       "      <td>40.366</td>\n",
       "      <td>9.0422</td>\n",
       "      <td>25.05</td>\n",
       "      <td>0</td>\n",
       "      <td>1505</td>\n",
       "    </tr>\n",
       "  </tbody>\n",
       "</table>\n",
       "<p>35450 rows × 66 columns</p>\n",
       "</div>"
      ],
      "text/plain": [
       "              X1       X2        X3       X4       X5        X6         X7  \\\n",
       "0       0.037155  0.75222   -0.0352  0.93331  -69.845  0.037155   0.050562   \n",
       "1       0.000631  0.60211  0.022193   1.0369  -68.147  0.000631   0.004723   \n",
       "2        0.22498  0.45494   0.35625   1.7831   4.9358   0.22498    0.22498   \n",
       "3       0.086206  0.92638  0.059124   1.0848  -58.144  -0.12592   0.095948   \n",
       "4        0.11322  0.28925   0.37193   3.2601   79.415         0    0.11322   \n",
       "...          ...      ...       ...      ...      ...       ...        ...   \n",
       "35445  -0.013118   1.2144  -0.20539  0.82064  -79.495  -0.21783  -0.000674   \n",
       "35446   0.034599  0.12484   0.82262   7.5896   112.12         0   0.050697   \n",
       "35447   0.050174  0.39413   0.23275   1.8142   44.121   0.41688    0.06309   \n",
       "35448    0.54104  0.43732   0.40358   2.0387   1.7298         0    0.54104   \n",
       "35449   0.089495  0.51413   0.30029   1.5841  -6.6717         0    0.11211   \n",
       "\n",
       "             X8       X9       X10  ...       X57      X58       X59     X60  \\\n",
       "0        0.3294   1.0353   0.24778  ...   0.14995  0.96592    0.9056  5.9449   \n",
       "1       0.53684  0.97365   0.32324  ...  0.001952   1.0271       0.0  5.1918   \n",
       "2        1.1341   1.2073   0.51592  ...   0.43607  0.82829       0.0  3.1876   \n",
       "3      0.079469    1.509  0.073618  ...     1.171  0.93878    2.8634  5.8202   \n",
       "4        2.4572    1.736   0.71075  ...    0.1593  0.73302  0.038676   15.73   \n",
       "...         ...      ...       ...  ...       ...      ...       ...     ...   \n",
       "35445  -0.17657   2.3353  -0.21443  ...  0.061177   1.0002  -0.19702   9.039   \n",
       "35446    7.0105   1.5262   0.87516  ...  0.039534  0.96703         0  4.0262   \n",
       "35447    1.5372  0.77055   0.60587  ...         0   0.8561    0.1787  5.1993   \n",
       "35448    1.2866   2.1048   0.56268  ...   0.96156  0.74382         0  5.7473   \n",
       "35449   0.94504   4.6488   0.48587  ...    0.1842    0.976         0  12.266   \n",
       "\n",
       "          X61     X62     X63     X64 Bankrupt    Id  \n",
       "0      21.098  84.685  4.3101  4.4838        0  3735  \n",
       "1      6.1685   137.1  2.6622  4.2665        1  4564  \n",
       "2      2.5137  151.92  2.4025  5.7889        0  6239  \n",
       "3      3.9307  168.67  2.1639  6.1962        0  5877  \n",
       "4       7.241  34.601  10.549  3.7453        0  2507  \n",
       "...       ...     ...     ...     ...      ...   ...  \n",
       "35445  3.9025  178.99  2.0393  38.772        0  2337  \n",
       "35446  4.1955  29.856  12.226  29.045        0  2747  \n",
       "35447   2.111  135.41  2.6956  1.6007        0  2982  \n",
       "35448  13.612  67.378  5.4172  10.125        0  1974  \n",
       "35449  11.183  40.366  9.0422   25.05        0  1505  \n",
       "\n",
       "[35450 rows x 66 columns]"
      ]
     },
     "execution_count": 4,
     "metadata": {},
     "output_type": "execute_result"
    }
   ],
   "source": [
    "result"
   ]
  },
  {
   "cell_type": "markdown",
   "id": "a6d6d8e1",
   "metadata": {},
   "source": [
    "# Exploratory Data Analysis"
   ]
  },
  {
   "cell_type": "markdown",
   "id": "709c5aae",
   "metadata": {},
   "source": [
    "# Data Cleaning"
   ]
  },
  {
   "cell_type": "code",
   "execution_count": 5,
   "id": "d2608ad2",
   "metadata": {},
   "outputs": [],
   "source": [
    "#check for duplicates\n",
    "for row in result.duplicated():\n",
    "    if row:\n",
    "        print(\"Duplicate Found\")"
   ]
  },
  {
   "cell_type": "code",
   "execution_count": 6,
   "id": "b5dd5b77",
   "metadata": {},
   "outputs": [
    {
     "data": {
      "text/plain": [
       "0"
      ]
     },
     "execution_count": 6,
     "metadata": {},
     "output_type": "execute_result"
    }
   ],
   "source": [
    "#check any null values are present\n",
    "result.isnull().sum().sum()"
   ]
  },
  {
   "cell_type": "code",
   "execution_count": 7,
   "id": "1c4fee51",
   "metadata": {},
   "outputs": [],
   "source": [
    "#Check any null valued attribute\n",
    "for x in result.isnull().any():\n",
    "    if x:\n",
    "        print(\"Nulled Attribute Found\")"
   ]
  },
  {
   "cell_type": "code",
   "execution_count": 8,
   "id": "4a71134b",
   "metadata": {},
   "outputs": [],
   "source": [
    "#Check any nan value attribute\n",
    "for x in result.isna().any():\n",
    "    if x:\n",
    "        print(\"nan Attribute Found\")"
   ]
  },
  {
   "cell_type": "code",
   "execution_count": 9,
   "id": "b54986c9",
   "metadata": {},
   "outputs": [],
   "source": [
    "#remove id from dataframe\n",
    "result = result.drop(columns = ['Id'],axis = 0)"
   ]
  },
  {
   "cell_type": "code",
   "execution_count": 10,
   "id": "5908114d",
   "metadata": {},
   "outputs": [],
   "source": [
    "#Change datatypes of columns\n",
    "# for column in result.columns[:len()]:\n",
    "#     result[column] =  result[column].astype(int)\n",
    "\n",
    "\n",
    "\n",
    "result['X1'] = pandas.to_numeric(result['X1'], errors='coerce')\n",
    "\n",
    "# # Convert the column to float dtype\n",
    "# result['X1'] = result['X1'].astype(float)"
   ]
  },
  {
   "cell_type": "code",
   "execution_count": 11,
   "id": "043ff223",
   "metadata": {},
   "outputs": [
    {
     "name": "stdout",
     "output_type": "stream",
     "text": [
      "X1          float64\n",
      "X2          float64\n",
      "X3          float64\n",
      "X4          float64\n",
      "X5          float64\n",
      "             ...   \n",
      "X61         float64\n",
      "X62         float64\n",
      "X63         float64\n",
      "X64         float64\n",
      "Bankrupt      int64\n",
      "Length: 65, dtype: object\n"
     ]
    }
   ],
   "source": [
    "import pandas \n",
    "\n",
    "# Assuming df is your DataFrame and 'column_name' is the column you want to check\n",
    "# Convert the column to numeric, coercing non-float values to NaN\n",
    "for x in result.columns:\n",
    "    result[x] = pandas.to_numeric(result[x], errors='coerce')\n",
    "\n",
    "# Print the resulting DataFrame\n",
    "print(result.dtypes)"
   ]
  },
  {
   "cell_type": "code",
   "execution_count": 12,
   "id": "5bcf2156",
   "metadata": {},
   "outputs": [
    {
     "data": {
      "text/html": [
       "<div>\n",
       "<style scoped>\n",
       "    .dataframe tbody tr th:only-of-type {\n",
       "        vertical-align: middle;\n",
       "    }\n",
       "\n",
       "    .dataframe tbody tr th {\n",
       "        vertical-align: top;\n",
       "    }\n",
       "\n",
       "    .dataframe thead th {\n",
       "        text-align: right;\n",
       "    }\n",
       "</style>\n",
       "<table border=\"1\" class=\"dataframe\">\n",
       "  <thead>\n",
       "    <tr style=\"text-align: right;\">\n",
       "      <th></th>\n",
       "      <th>X1</th>\n",
       "      <th>X2</th>\n",
       "      <th>X3</th>\n",
       "      <th>X4</th>\n",
       "      <th>X5</th>\n",
       "      <th>X6</th>\n",
       "      <th>X7</th>\n",
       "      <th>X8</th>\n",
       "      <th>X9</th>\n",
       "      <th>X10</th>\n",
       "      <th>...</th>\n",
       "      <th>X56</th>\n",
       "      <th>X57</th>\n",
       "      <th>X58</th>\n",
       "      <th>X59</th>\n",
       "      <th>X60</th>\n",
       "      <th>X61</th>\n",
       "      <th>X62</th>\n",
       "      <th>X63</th>\n",
       "      <th>X64</th>\n",
       "      <th>Bankrupt</th>\n",
       "    </tr>\n",
       "  </thead>\n",
       "  <tbody>\n",
       "    <tr>\n",
       "      <th>X1</th>\n",
       "      <td>1.000000</td>\n",
       "      <td>-0.103598</td>\n",
       "      <td>0.057457</td>\n",
       "      <td>0.000617</td>\n",
       "      <td>0.002769</td>\n",
       "      <td>0.315521</td>\n",
       "      <td>0.410071</td>\n",
       "      <td>0.000391</td>\n",
       "      <td>-0.236098</td>\n",
       "      <td>-0.257612</td>\n",
       "      <td>...</td>\n",
       "      <td>0.000035</td>\n",
       "      <td>0.007481</td>\n",
       "      <td>-0.000181</td>\n",
       "      <td>-0.000202</td>\n",
       "      <td>0.000215</td>\n",
       "      <td>0.002124</td>\n",
       "      <td>0.000425</td>\n",
       "      <td>0.007627</td>\n",
       "      <td>-0.070320</td>\n",
       "      <td>-0.028185</td>\n",
       "    </tr>\n",
       "    <tr>\n",
       "      <th>X2</th>\n",
       "      <td>-0.103598</td>\n",
       "      <td>1.000000</td>\n",
       "      <td>-0.927482</td>\n",
       "      <td>-0.001374</td>\n",
       "      <td>-0.036601</td>\n",
       "      <td>-0.843995</td>\n",
       "      <td>0.103120</td>\n",
       "      <td>-0.002241</td>\n",
       "      <td>-0.017355</td>\n",
       "      <td>-0.437393</td>\n",
       "      <td>...</td>\n",
       "      <td>-0.000225</td>\n",
       "      <td>-0.000750</td>\n",
       "      <td>0.000258</td>\n",
       "      <td>0.000576</td>\n",
       "      <td>-0.000004</td>\n",
       "      <td>-0.002386</td>\n",
       "      <td>0.048930</td>\n",
       "      <td>-0.002971</td>\n",
       "      <td>-0.016032</td>\n",
       "      <td>0.037904</td>\n",
       "    </tr>\n",
       "    <tr>\n",
       "      <th>X3</th>\n",
       "      <td>0.057457</td>\n",
       "      <td>-0.927482</td>\n",
       "      <td>1.000000</td>\n",
       "      <td>0.002055</td>\n",
       "      <td>0.039222</td>\n",
       "      <td>0.761466</td>\n",
       "      <td>0.033399</td>\n",
       "      <td>0.001495</td>\n",
       "      <td>-0.002955</td>\n",
       "      <td>0.395243</td>\n",
       "      <td>...</td>\n",
       "      <td>0.000004</td>\n",
       "      <td>0.000800</td>\n",
       "      <td>-0.000028</td>\n",
       "      <td>-0.000206</td>\n",
       "      <td>0.000553</td>\n",
       "      <td>-0.001589</td>\n",
       "      <td>-0.052333</td>\n",
       "      <td>0.003548</td>\n",
       "      <td>-0.000896</td>\n",
       "      <td>-0.037713</td>\n",
       "    </tr>\n",
       "    <tr>\n",
       "      <th>X4</th>\n",
       "      <td>0.000617</td>\n",
       "      <td>-0.001374</td>\n",
       "      <td>0.002055</td>\n",
       "      <td>1.000000</td>\n",
       "      <td>0.001680</td>\n",
       "      <td>0.000274</td>\n",
       "      <td>0.000118</td>\n",
       "      <td>0.737829</td>\n",
       "      <td>-0.000435</td>\n",
       "      <td>0.001440</td>\n",
       "      <td>...</td>\n",
       "      <td>0.000460</td>\n",
       "      <td>0.000117</td>\n",
       "      <td>-0.000481</td>\n",
       "      <td>-0.000247</td>\n",
       "      <td>0.000192</td>\n",
       "      <td>0.000793</td>\n",
       "      <td>-0.000942</td>\n",
       "      <td>0.005198</td>\n",
       "      <td>-0.000492</td>\n",
       "      <td>-0.001665</td>\n",
       "    </tr>\n",
       "    <tr>\n",
       "      <th>X5</th>\n",
       "      <td>0.002769</td>\n",
       "      <td>-0.036601</td>\n",
       "      <td>0.039222</td>\n",
       "      <td>0.001680</td>\n",
       "      <td>1.000000</td>\n",
       "      <td>0.029638</td>\n",
       "      <td>0.001524</td>\n",
       "      <td>0.001755</td>\n",
       "      <td>0.000510</td>\n",
       "      <td>0.015710</td>\n",
       "      <td>...</td>\n",
       "      <td>-0.000041</td>\n",
       "      <td>-0.000012</td>\n",
       "      <td>0.000039</td>\n",
       "      <td>0.000082</td>\n",
       "      <td>0.000093</td>\n",
       "      <td>0.000141</td>\n",
       "      <td>-0.002630</td>\n",
       "      <td>0.000617</td>\n",
       "      <td>0.000213</td>\n",
       "      <td>-0.001487</td>\n",
       "    </tr>\n",
       "    <tr>\n",
       "      <th>...</th>\n",
       "      <td>...</td>\n",
       "      <td>...</td>\n",
       "      <td>...</td>\n",
       "      <td>...</td>\n",
       "      <td>...</td>\n",
       "      <td>...</td>\n",
       "      <td>...</td>\n",
       "      <td>...</td>\n",
       "      <td>...</td>\n",
       "      <td>...</td>\n",
       "      <td>...</td>\n",
       "      <td>...</td>\n",
       "      <td>...</td>\n",
       "      <td>...</td>\n",
       "      <td>...</td>\n",
       "      <td>...</td>\n",
       "      <td>...</td>\n",
       "      <td>...</td>\n",
       "      <td>...</td>\n",
       "      <td>...</td>\n",
       "      <td>...</td>\n",
       "    </tr>\n",
       "    <tr>\n",
       "      <th>X61</th>\n",
       "      <td>0.002124</td>\n",
       "      <td>-0.002386</td>\n",
       "      <td>-0.001589</td>\n",
       "      <td>0.000793</td>\n",
       "      <td>0.000141</td>\n",
       "      <td>0.001262</td>\n",
       "      <td>0.251321</td>\n",
       "      <td>0.000877</td>\n",
       "      <td>0.342591</td>\n",
       "      <td>0.063129</td>\n",
       "      <td>...</td>\n",
       "      <td>0.000389</td>\n",
       "      <td>0.000914</td>\n",
       "      <td>-0.000421</td>\n",
       "      <td>-0.000513</td>\n",
       "      <td>0.051686</td>\n",
       "      <td>1.000000</td>\n",
       "      <td>-0.000642</td>\n",
       "      <td>0.334561</td>\n",
       "      <td>0.441488</td>\n",
       "      <td>-0.000406</td>\n",
       "    </tr>\n",
       "    <tr>\n",
       "      <th>X62</th>\n",
       "      <td>0.000425</td>\n",
       "      <td>0.048930</td>\n",
       "      <td>-0.052333</td>\n",
       "      <td>-0.000942</td>\n",
       "      <td>-0.002630</td>\n",
       "      <td>-0.041564</td>\n",
       "      <td>0.000124</td>\n",
       "      <td>-0.000240</td>\n",
       "      <td>-0.000379</td>\n",
       "      <td>-0.020980</td>\n",
       "      <td>...</td>\n",
       "      <td>-0.903599</td>\n",
       "      <td>0.000020</td>\n",
       "      <td>0.903304</td>\n",
       "      <td>0.000029</td>\n",
       "      <td>-0.000091</td>\n",
       "      <td>-0.000642</td>\n",
       "      <td>1.000000</td>\n",
       "      <td>-0.000674</td>\n",
       "      <td>-0.000222</td>\n",
       "      <td>0.000526</td>\n",
       "    </tr>\n",
       "    <tr>\n",
       "      <th>X63</th>\n",
       "      <td>0.007627</td>\n",
       "      <td>-0.002971</td>\n",
       "      <td>0.003548</td>\n",
       "      <td>0.005198</td>\n",
       "      <td>0.000617</td>\n",
       "      <td>0.000783</td>\n",
       "      <td>0.744360</td>\n",
       "      <td>0.024296</td>\n",
       "      <td>0.980452</td>\n",
       "      <td>0.003779</td>\n",
       "      <td>...</td>\n",
       "      <td>0.000392</td>\n",
       "      <td>0.001251</td>\n",
       "      <td>-0.000424</td>\n",
       "      <td>-0.000585</td>\n",
       "      <td>0.151726</td>\n",
       "      <td>0.334561</td>\n",
       "      <td>-0.000674</td>\n",
       "      <td>1.000000</td>\n",
       "      <td>0.294865</td>\n",
       "      <td>-0.000496</td>\n",
       "    </tr>\n",
       "    <tr>\n",
       "      <th>X64</th>\n",
       "      <td>-0.070320</td>\n",
       "      <td>-0.016032</td>\n",
       "      <td>-0.000896</td>\n",
       "      <td>-0.000492</td>\n",
       "      <td>0.000213</td>\n",
       "      <td>0.002680</td>\n",
       "      <td>0.150398</td>\n",
       "      <td>-0.001314</td>\n",
       "      <td>0.248138</td>\n",
       "      <td>0.285151</td>\n",
       "      <td>...</td>\n",
       "      <td>0.000168</td>\n",
       "      <td>0.000143</td>\n",
       "      <td>-0.000169</td>\n",
       "      <td>-0.000335</td>\n",
       "      <td>0.021632</td>\n",
       "      <td>0.441488</td>\n",
       "      <td>-0.000222</td>\n",
       "      <td>0.294865</td>\n",
       "      <td>1.000000</td>\n",
       "      <td>0.004827</td>\n",
       "    </tr>\n",
       "    <tr>\n",
       "      <th>Bankrupt</th>\n",
       "      <td>-0.028185</td>\n",
       "      <td>0.037904</td>\n",
       "      <td>-0.037713</td>\n",
       "      <td>-0.001665</td>\n",
       "      <td>-0.001487</td>\n",
       "      <td>-0.038033</td>\n",
       "      <td>-0.016721</td>\n",
       "      <td>-0.002116</td>\n",
       "      <td>-0.002633</td>\n",
       "      <td>-0.016744</td>\n",
       "      <td>...</td>\n",
       "      <td>0.000990</td>\n",
       "      <td>-0.015802</td>\n",
       "      <td>-0.001265</td>\n",
       "      <td>-0.001325</td>\n",
       "      <td>-0.002000</td>\n",
       "      <td>-0.000406</td>\n",
       "      <td>0.000526</td>\n",
       "      <td>-0.000496</td>\n",
       "      <td>0.004827</td>\n",
       "      <td>1.000000</td>\n",
       "    </tr>\n",
       "  </tbody>\n",
       "</table>\n",
       "<p>65 rows × 65 columns</p>\n",
       "</div>"
      ],
      "text/plain": [
       "                X1        X2        X3        X4        X5        X6  \\\n",
       "X1        1.000000 -0.103598  0.057457  0.000617  0.002769  0.315521   \n",
       "X2       -0.103598  1.000000 -0.927482 -0.001374 -0.036601 -0.843995   \n",
       "X3        0.057457 -0.927482  1.000000  0.002055  0.039222  0.761466   \n",
       "X4        0.000617 -0.001374  0.002055  1.000000  0.001680  0.000274   \n",
       "X5        0.002769 -0.036601  0.039222  0.001680  1.000000  0.029638   \n",
       "...            ...       ...       ...       ...       ...       ...   \n",
       "X61       0.002124 -0.002386 -0.001589  0.000793  0.000141  0.001262   \n",
       "X62       0.000425  0.048930 -0.052333 -0.000942 -0.002630 -0.041564   \n",
       "X63       0.007627 -0.002971  0.003548  0.005198  0.000617  0.000783   \n",
       "X64      -0.070320 -0.016032 -0.000896 -0.000492  0.000213  0.002680   \n",
       "Bankrupt -0.028185  0.037904 -0.037713 -0.001665 -0.001487 -0.038033   \n",
       "\n",
       "                X7        X8        X9       X10  ...       X56       X57  \\\n",
       "X1        0.410071  0.000391 -0.236098 -0.257612  ...  0.000035  0.007481   \n",
       "X2        0.103120 -0.002241 -0.017355 -0.437393  ... -0.000225 -0.000750   \n",
       "X3        0.033399  0.001495 -0.002955  0.395243  ...  0.000004  0.000800   \n",
       "X4        0.000118  0.737829 -0.000435  0.001440  ...  0.000460  0.000117   \n",
       "X5        0.001524  0.001755  0.000510  0.015710  ... -0.000041 -0.000012   \n",
       "...            ...       ...       ...       ...  ...       ...       ...   \n",
       "X61       0.251321  0.000877  0.342591  0.063129  ...  0.000389  0.000914   \n",
       "X62       0.000124 -0.000240 -0.000379 -0.020980  ... -0.903599  0.000020   \n",
       "X63       0.744360  0.024296  0.980452  0.003779  ...  0.000392  0.001251   \n",
       "X64       0.150398 -0.001314  0.248138  0.285151  ...  0.000168  0.000143   \n",
       "Bankrupt -0.016721 -0.002116 -0.002633 -0.016744  ...  0.000990 -0.015802   \n",
       "\n",
       "               X58       X59       X60       X61       X62       X63  \\\n",
       "X1       -0.000181 -0.000202  0.000215  0.002124  0.000425  0.007627   \n",
       "X2        0.000258  0.000576 -0.000004 -0.002386  0.048930 -0.002971   \n",
       "X3       -0.000028 -0.000206  0.000553 -0.001589 -0.052333  0.003548   \n",
       "X4       -0.000481 -0.000247  0.000192  0.000793 -0.000942  0.005198   \n",
       "X5        0.000039  0.000082  0.000093  0.000141 -0.002630  0.000617   \n",
       "...            ...       ...       ...       ...       ...       ...   \n",
       "X61      -0.000421 -0.000513  0.051686  1.000000 -0.000642  0.334561   \n",
       "X62       0.903304  0.000029 -0.000091 -0.000642  1.000000 -0.000674   \n",
       "X63      -0.000424 -0.000585  0.151726  0.334561 -0.000674  1.000000   \n",
       "X64      -0.000169 -0.000335  0.021632  0.441488 -0.000222  0.294865   \n",
       "Bankrupt -0.001265 -0.001325 -0.002000 -0.000406  0.000526 -0.000496   \n",
       "\n",
       "               X64  Bankrupt  \n",
       "X1       -0.070320 -0.028185  \n",
       "X2       -0.016032  0.037904  \n",
       "X3       -0.000896 -0.037713  \n",
       "X4       -0.000492 -0.001665  \n",
       "X5        0.000213 -0.001487  \n",
       "...            ...       ...  \n",
       "X61       0.441488 -0.000406  \n",
       "X62      -0.000222  0.000526  \n",
       "X63       0.294865 -0.000496  \n",
       "X64       1.000000  0.004827  \n",
       "Bankrupt  0.004827  1.000000  \n",
       "\n",
       "[65 rows x 65 columns]"
      ]
     },
     "execution_count": 12,
     "metadata": {},
     "output_type": "execute_result"
    }
   ],
   "source": [
    "result.corr()"
   ]
  },
  {
   "cell_type": "code",
   "execution_count": 13,
   "id": "73a861ba",
   "metadata": {},
   "outputs": [
    {
     "data": {
      "image/png": "[encoded data removed]",
      "text/plain": [
       "<Figure size 640x480 with 1 Axes>"
      ]
     },
     "metadata": {},
     "output_type": "display_data"
    }
   ],
   "source": [
    "import matplotlib.pyplot as plt\n",
    "result.boxplot()\n",
    "plt.show()"
   ]
  },
  {
   "cell_type": "code",
   "execution_count": 14,
   "id": "4d5aa2b3",
   "metadata": {},
   "outputs": [],
   "source": [
    "feature = result.drop(columns = ['Bankrupt'])\n",
    "target = result['Bankrupt']"
   ]
  },
  {
   "cell_type": "code",
   "execution_count": 15,
   "id": "78d1dd3f",
   "metadata": {},
   "outputs": [],
   "source": [
    "result = result.dropna()"
   ]
  },
  {
   "cell_type": "markdown",
   "id": "c3403c4e",
   "metadata": {},
   "source": [
    "# XG Boost Classifier"
   ]
  },
  {
   "cell_type": "code",
   "execution_count": 18,
   "id": "03cddd8e",
   "metadata": {},
   "outputs": [
    {
     "name": "stdout",
     "output_type": "stream",
     "text": [
      "Defaulting to user installation because normal site-packages is not writeable\n",
      "Collecting xgboost\n",
      "  Downloading xgboost-2.0.3-py3-none-win_amd64.whl (99.8 MB)\n",
      "     ---------------------------------------- 99.8/99.8 MB 2.2 MB/s eta 0:00:00\n",
      "Requirement already satisfied: numpy in c:\\programdata\\anaconda3\\lib\\site-packages (from xgboost) (1.23.5)\n",
      "Requirement already satisfied: scipy in c:\\programdata\\anaconda3\\lib\\site-packages (from xgboost) (1.10.0)\n",
      "Installing collected packages: xgboost\n",
      "Successfully installed xgboost-2.0.3\n",
      "Note: you may need to restart the kernel to use updated packages.\n"
     ]
    }
   ],
   "source": [
    "pip install xgboost"
   ]
  },
  {
   "cell_type": "code",
   "execution_count": 19,
   "id": "31614081",
   "metadata": {},
   "outputs": [
    {
     "name": "stdout",
     "output_type": "stream",
     "text": [
      "Accuracy: 0.9777150916784203\n",
      "Confusion Matrix:\n",
      " [[6760   15]\n",
      " [ 143  172]]\n",
      "\n",
      "Classification Report:\n",
      "               precision    recall  f1-score   support\n",
      "\n",
      "           0       0.98      1.00      0.99      6775\n",
      "           1       0.92      0.55      0.69       315\n",
      "\n",
      "    accuracy                           0.98      7090\n",
      "   macro avg       0.95      0.77      0.84      7090\n",
      "weighted avg       0.98      0.98      0.97      7090\n",
      "\n"
     ]
    }
   ],
   "source": [
    "import xgboost as xgb\n",
    "from sklearn.model_selection import train_test_split\n",
    "from sklearn.metrics import accuracy_score, precision_score, recall_score, f1_score, confusion_matrix, classification_report\n",
    "\n",
    "X_train,X_test,y_train,y_test = train_test_split(feature,target,test_size = 0.2)\n",
    "# Define parameters for XGBoost\n",
    "params = {\n",
    "    'objective': 'binary:logistic',  # For binary classification\n",
    "    'eval_metric': 'logloss'          # Evaluation metric\n",
    "}\n",
    "\n",
    "# Convert your data into DMatrix for better performance\n",
    "dtrain = xgb.DMatrix(X_train, label=y_train)\n",
    "dtest = xgb.DMatrix(X_test, label=y_test)\n",
    "\n",
    "# Train the model\n",
    "num_rounds = 100  # Number of boosting rounds\n",
    "model = xgb.train(params, dtrain, num_rounds)\n",
    "\n",
    "predictions = model.predict(dtest)\n",
    "\n",
    "\n",
    "\n",
    "# Convert probabilities to binary predictions\n",
    "binary_predictions = [1 if pred > 0.5 else 0 for pred in predictions]\n",
    "\n",
    "# Calculate accuracy\n",
    "accuracy1 = accuracy_score(y_test, binary_predictions)\n",
    "precision1 = precision_score(y_test, binary_predictions)\n",
    "recall1 = recall_score(y_test, binary_predictions)\n",
    "f1_score1 = f1_score(y_test, binary_predictions)\n",
    "print(\"Accuracy:\", accuracy1)\n",
    "\n",
    "# Print confusion matrix and classification report\n",
    "print(\"Confusion Matrix:\\n\", confusion_matrix(y_test, binary_predictions))\n",
    "print(\"\\nClassification Report:\\n\", classification_report(y_test, binary_predictions))"
   ]
  },
  {
   "cell_type": "markdown",
   "id": "c876c664",
   "metadata": {},
   "source": [
    "# Decision Tree Classifier "
   ]
  },
  {
   "cell_type": "code",
   "execution_count": 20,
   "id": "9ec05362",
   "metadata": {},
   "outputs": [
    {
     "name": "stdout",
     "output_type": "stream",
     "text": [
      "Accuracy: 0.9561354019746121\n",
      "Confusion Matrix:\n",
      " [[6592  144]\n",
      " [ 167  187]]\n",
      "\n",
      "Classification Report:\n",
      "               precision    recall  f1-score   support\n",
      "\n",
      "           0       0.98      0.98      0.98      6736\n",
      "           1       0.56      0.53      0.55       354\n",
      "\n",
      "    accuracy                           0.96      7090\n",
      "   macro avg       0.77      0.75      0.76      7090\n",
      "weighted avg       0.95      0.96      0.96      7090\n",
      "\n"
     ]
    }
   ],
   "source": [
    "from sklearn.tree import DecisionTreeClassifier\n",
    "from sklearn.model_selection import train_test_split\n",
    "from sklearn.metrics import accuracy_score, precision_score, recall_score, f1_score, confusion_matrix, classification_report\n",
    "\n",
    "\n",
    "\n",
    "\n",
    "\n",
    "X_train,X_test,y_train,y_test = train_test_split(feature,target,test_size = 0.2)\n",
    "clf = DecisionTreeClassifier()\n",
    "# Train the classifier on the training data\n",
    "clf.fit(X_train, y_train)\n",
    "\n",
    "# Use the trained classifier to make predictions on the test data\n",
    "y_pred = clf.predict(X_test)\n",
    "\n",
    "\n",
    "# Calculate accuracy\n",
    "accuracy2 = accuracy_score(y_test, y_pred)\n",
    "precision2 = precision_score(y_test, y_pred)\n",
    "recall2 = recall_score(y_test, y_pred)\n",
    "f1_score2 = f1_score(y_test, y_pred)\n",
    "print(\"Accuracy:\", accuracy2)\n",
    "\n",
    "# Print confusion matrix and classification report\n",
    "print(\"Confusion Matrix:\\n\", confusion_matrix(y_test, y_pred))\n",
    "print(\"\\nClassification Report:\\n\", classification_report(y_test, y_pred))"
   ]
  },
  {
   "cell_type": "markdown",
   "id": "973f660a",
   "metadata": {},
   "source": [
    "# Neural Network"
   ]
  },
  {
   "cell_type": "code",
   "execution_count": 21,
   "id": "43dc290a",
   "metadata": {},
   "outputs": [
    {
     "name": "stdout",
     "output_type": "stream",
     "text": [
      "Epoch 1/5\n",
      "7090/7090 [==============================] - 20s 3ms/step - loss: nan - accuracy: 0.9553\n",
      "Epoch 2/5\n",
      "7090/7090 [==============================] - 21s 3ms/step - loss: nan - accuracy: 0.9554\n",
      "Epoch 3/5\n",
      "7090/7090 [==============================] - 19s 3ms/step - loss: nan - accuracy: 0.9554\n",
      "Epoch 4/5\n",
      "7090/7090 [==============================] - 19s 3ms/step - loss: nan - accuracy: 0.9554\n",
      "Epoch 5/5\n",
      "7090/7090 [==============================] - 19s 3ms/step - loss: nan - accuracy: 0.9554\n",
      "222/222 [==============================] - 1s 2ms/step\n",
      "[[0]\n",
      " [0]\n",
      " [0]\n",
      " ...\n",
      " [0]\n",
      " [0]\n",
      " [0]]\n",
      "Accuracy: 0.9569816643159379\n",
      "Confusion Matrix:\n",
      " [[6785    0]\n",
      " [ 305    0]]\n",
      "\n",
      "Classification Report:\n",
      "               precision    recall  f1-score   support\n",
      "\n",
      "           0       0.96      1.00      0.98      6785\n",
      "           1       0.00      0.00      0.00       305\n",
      "\n",
      "    accuracy                           0.96      7090\n",
      "   macro avg       0.48      0.50      0.49      7090\n",
      "weighted avg       0.92      0.96      0.94      7090\n",
      "\n"
     ]
    }
   ],
   "source": [
    "from sklearn.model_selection import train_test_split\n",
    "from sklearn.metrics import accuracy_score, precision_score, recall_score, f1_score, confusion_matrix, classification_report\n",
    "import numpy as np\n",
    "from keras.models import Sequential\n",
    "from keras.layers import Dense\n",
    "\n",
    "\n",
    "\n",
    "\n",
    "\n",
    "X_train,X_test,y_train,y_test = train_test_split(feature,target,test_size = 0.2)\n",
    "\n",
    "\n",
    "# Define the model\n",
    "model = Sequential()\n",
    "model.add(Dense(4, input_shape=(64,), activation='relu'))  # Input layer with 2 features and a hidden layer with 4 neurons\n",
    "model.add(Dense(1, activation='sigmoid'))                # Output layer with 1 neuron (binary classification)\n",
    "\n",
    "# Compile the model\n",
    "model.compile(loss='binary_crossentropy', optimizer='adam', metrics=['accuracy'])\n",
    "\n",
    "# Train the model\n",
    "model.fit(X_train, y_train, epochs=5, batch_size=4)\n",
    "\n",
    "\n",
    "\n",
    "# Use the trained classifier to make predictions on the test data\n",
    "y_pred_proba = model.predict(X_test)  # Predicted probabilities\n",
    "\n",
    "# Convert predicted probabilities to binary labels\n",
    "y_pred = (y_pred_proba >= 0.5).astype(int)\n",
    "\n",
    "# Print the binary predictions\n",
    "print(y_pred)\n",
    "\n",
    "\n",
    "\n",
    "# Calculate accuracy\n",
    "accuracy3 = accuracy_score(y_test, y_pred)\n",
    "precision3 = precision_score(y_test, y_pred)\n",
    "recall3 = recall_score(y_test, y_pred)\n",
    "f1_score3 = f1_score(y_test, y_pred)\n",
    "print(\"Accuracy:\", accuracy3)\n",
    "\n",
    "# Print confusion matrix and classification report\n",
    "print(\"Confusion Matrix:\\n\", confusion_matrix(y_test, y_pred))\n",
    "print(\"\\nClassification Report:\\n\", classification_report(y_test, y_pred))"
   ]
  },
  {
   "cell_type": "markdown",
   "id": "618d9c96",
   "metadata": {},
   "source": [
    "# Accuracy metrics"
   ]
  },
  {
   "cell_type": "code",
   "execution_count": 23,
   "id": "c9c23089",
   "metadata": {},
   "outputs": [
    {
     "data": {
      "application/vnd.plotly.v1+json": {
       "config": {
        "plotlyServerURL": "https://plot.ly"
       },
       "data": [
        {
         "name": "Accuracy",
         "type": "bar",
         "x": [
          "XGBoost",
          "DecisionTree",
          "Neural Network"
         ],
         "y": [
          0.9777150916784203,
          0.9561354019746121,
          0.9569816643159379
         ]
        },
        {
         "name": "Recall",
         "type": "bar",
         "x": [
          "XGBoost",
          "DecisionTree",
          "Neural Network"
         ],
         "y": [
          0.546031746031746,
          0.5282485875706214,
          0
         ]
        },
        {
         "name": "Precision",
         "type": "bar",
         "x": [
          "XGBoost",
          "DecisionTree",
          "Neural Network"
         ],
         "y": [
          0.9197860962566845,
          0.5649546827794562,
          0
         ]
        },
        {
         "name": "F1-score",
         "type": "bar",
         "x": [
          "XGBoost",
          "DecisionTree",
          "Neural Network"
         ],
         "y": [
          0.6852589641434262,
          0.545985401459854,
          0
         ]
        }
       ],
       "layout": {
        "barmode": "group",
        "template": {
         "data": {
          "bar": [
           {
            "error_x": {
             "color": "#2a3f5f"
            },
            "error_y": {
             "color": "#2a3f5f"
            },
            "marker": {
             "line": {
              "color": "#E5ECF6",
              "width": 0.5
             },
             "pattern": {
              "fillmode": "overlay",
              "size": 10,
              "solidity": 0.2
             }
            },
            "type": "bar"
           }
          ],
          "barpolar": [
           {
            "marker": {
             "line": {
              "color": "#E5ECF6",
              "width": 0.5
             },
             "pattern": {
              "fillmode": "overlay",
              "size": 10,
              "solidity": 0.2
             }
            },
            "type": "barpolar"
           }
          ],
          "carpet": [
           {
            "aaxis": {
             "endlinecolor": "#2a3f5f",
             "gridcolor": "white",
             "linecolor": "white",
             "minorgridcolor": "white",
             "startlinecolor": "#2a3f5f"
            },
            "baxis": {
             "endlinecolor": "#2a3f5f",
             "gridcolor": "white",
             "linecolor": "white",
             "minorgridcolor": "white",
             "startlinecolor": "#2a3f5f"
            },
            "type": "carpet"
           }
          ],
          "choropleth": [
           {
            "colorbar": {
             "outlinewidth": 0,
             "ticks": ""
            },
            "type": "choropleth"
           }
          ],
          "contour": [
           {
            "colorbar": {
             "outlinewidth": 0,
             "ticks": ""
            },
            "colorscale": [
             [
              0,
              "#0d0887"
             ],
             [
              0.1111111111111111,
              "#46039f"
             ],
             [
              0.2222222222222222,
              "#7201a8"
             ],
             [
              0.3333333333333333,
              "#9c179e"
             ],
             [
              0.4444444444444444,
              "#bd3786"
             ],
             [
              0.5555555555555556,
              "#d8576b"
             ],
             [
              0.6666666666666666,
              "#ed7953"
             ],
             [
              0.7777777777777778,
              "#fb9f3a"
             ],
             [
              0.8888888888888888,
              "#fdca26"
             ],
             [
              1,
              "#f0f921"
             ]
            ],
            "type": "contour"
           }
          ],
          "contourcarpet": [
           {
            "colorbar": {
             "outlinewidth": 0,
             "ticks": ""
            },
            "type": "contourcarpet"
           }
          ],
          "heatmap": [
           {
            "colorbar": {
             "outlinewidth": 0,
             "ticks": ""
            },
            "colorscale": [
             [
              0,
              "#0d0887"
             ],
             [
              0.1111111111111111,
              "#46039f"
             ],
             [
              0.2222222222222222,
              "#7201a8"
             ],
             [
              0.3333333333333333,
              "#9c179e"
             ],
             [
              0.4444444444444444,
              "#bd3786"
             ],
             [
              0.5555555555555556,
              "#d8576b"
             ],
             [
              0.6666666666666666,
              "#ed7953"
             ],
             [
              0.7777777777777778,
              "#fb9f3a"
             ],
             [
              0.8888888888888888,
              "#fdca26"
             ],
             [
              1,
              "#f0f921"
             ]
            ],
            "type": "heatmap"
           }
          ],
          "heatmapgl": [
           {
            "colorbar": {
             "outlinewidth": 0,
             "ticks": ""
            },
            "colorscale": [
             [
              0,
              "#0d0887"
             ],
             [
              0.1111111111111111,
              "#46039f"
             ],
             [
              0.2222222222222222,
              "#7201a8"
             ],
             [
              0.3333333333333333,
              "#9c179e"
             ],
             [
              0.4444444444444444,
              "#bd3786"
             ],
             [
              0.5555555555555556,
              "#d8576b"
             ],
             [
              0.6666666666666666,
              "#ed7953"
             ],
             [
              0.7777777777777778,
              "#fb9f3a"
             ],
             [
              0.8888888888888888,
              "#fdca26"
             ],
             [
              1,
              "#f0f921"
             ]
            ],
            "type": "heatmapgl"
           }
          ],
          "histogram": [
           {
            "marker": {
             "pattern": {
              "fillmode": "overlay",
              "size": 10,
              "solidity": 0.2
             }
            },
            "type": "histogram"
           }
          ],
          "histogram2d": [
           {
            "colorbar": {
             "outlinewidth": 0,
             "ticks": ""
            },
            "colorscale": [
             [
              0,
              "#0d0887"
             ],
             [
              0.1111111111111111,
              "#46039f"
             ],
             [
              0.2222222222222222,
              "#7201a8"
             ],
             [
              0.3333333333333333,
              "#9c179e"
             ],
             [
              0.4444444444444444,
              "#bd3786"
             ],
             [
              0.5555555555555556,
              "#d8576b"
             ],
             [
              0.6666666666666666,
              "#ed7953"
             ],
             [
              0.7777777777777778,
              "#fb9f3a"
             ],
             [
              0.8888888888888888,
              "#fdca26"
             ],
             [
              1,
              "#f0f921"
             ]
            ],
            "type": "histogram2d"
           }
          ],
          "histogram2dcontour": [
           {
            "colorbar": {
             "outlinewidth": 0,
             "ticks": ""
            },
            "colorscale": [
             [
              0,
              "#0d0887"
             ],
             [
              0.1111111111111111,
              "#46039f"
             ],
             [
              0.2222222222222222,
              "#7201a8"
             ],
             [
              0.3333333333333333,
              "#9c179e"
             ],
             [
              0.4444444444444444,
              "#bd3786"
             ],
             [
              0.5555555555555556,
              "#d8576b"
             ],
             [
              0.6666666666666666,
              "#ed7953"
             ],
             [
              0.7777777777777778,
              "#fb9f3a"
             ],
             [
              0.8888888888888888,
              "#fdca26"
             ],
             [
              1,
              "#f0f921"
             ]
            ],
            "type": "histogram2dcontour"
           }
          ],
          "mesh3d": [
           {
            "colorbar": {
             "outlinewidth": 0,
             "ticks": ""
            },
            "type": "mesh3d"
           }
          ],
          "parcoords": [
           {
            "line": {
             "colorbar": {
              "outlinewidth": 0,
              "ticks": ""
             }
            },
            "type": "parcoords"
           }
          ],
          "pie": [
           {
            "automargin": true,
            "type": "pie"
           }
          ],
          "scatter": [
           {
            "fillpattern": {
             "fillmode": "overlay",
             "size": 10,
             "solidity": 0.2
            },
            "type": "scatter"
           }
          ],
          "scatter3d": [
           {
            "line": {
             "colorbar": {
              "outlinewidth": 0,
              "ticks": ""
             }
            },
            "marker": {
             "colorbar": {
              "outlinewidth": 0,
              "ticks": ""
             }
            },
            "type": "scatter3d"
           }
          ],
          "scattercarpet": [
           {
            "marker": {
             "colorbar": {
              "outlinewidth": 0,
              "ticks": ""
             }
            },
            "type": "scattercarpet"
           }
          ],
          "scattergeo": [
           {
            "marker": {
             "colorbar": {
              "outlinewidth": 0,
              "ticks": ""
             }
            },
            "type": "scattergeo"
           }
          ],
          "scattergl": [
           {
            "marker": {
             "colorbar": {
              "outlinewidth": 0,
              "ticks": ""
             }
            },
            "type": "scattergl"
           }
          ],
          "scattermapbox": [
           {
            "marker": {
             "colorbar": {
              "outlinewidth": 0,
              "ticks": ""
             }
            },
            "type": "scattermapbox"
           }
          ],
          "scatterpolar": [
           {
            "marker": {
             "colorbar": {
              "outlinewidth": 0,
              "ticks": ""
             }
            },
            "type": "scatterpolar"
           }
          ],
          "scatterpolargl": [
           {
            "marker": {
             "colorbar": {
              "outlinewidth": 0,
              "ticks": ""
             }
            },
            "type": "scatterpolargl"
           }
          ],
          "scatterternary": [
           {
            "marker": {
             "colorbar": {
              "outlinewidth": 0,
              "ticks": ""
             }
            },
            "type": "scatterternary"
           }
          ],
          "surface": [
           {
            "colorbar": {
             "outlinewidth": 0,
             "ticks": ""
            },
            "colorscale": [
             [
              0,
              "#0d0887"
             ],
             [
              0.1111111111111111,
              "#46039f"
             ],
             [
              0.2222222222222222,
              "#7201a8"
             ],
             [
              0.3333333333333333,
              "#9c179e"
             ],
             [
              0.4444444444444444,
              "#bd3786"
             ],
             [
              0.5555555555555556,
              "#d8576b"
             ],
             [
              0.6666666666666666,
              "#ed7953"
             ],
             [
              0.7777777777777778,
              "#fb9f3a"
             ],
             [
              0.8888888888888888,
              "#fdca26"
             ],
             [
              1,
              "#f0f921"
             ]
            ],
            "type": "surface"
           }
          ],
          "table": [
           {
            "cells": {
             "fill": {
              "color": "#EBF0F8"
             },
             "line": {
              "color": "white"
             }
            },
            "header": {
             "fill": {
              "color": "#C8D4E3"
             },
             "line": {
              "color": "white"
             }
            },
            "type": "table"
           }
          ]
         },
         "layout": {
          "annotationdefaults": {
           "arrowcolor": "#2a3f5f",
           "arrowhead": 0,
           "arrowwidth": 1
          },
          "autotypenumbers": "strict",
          "coloraxis": {
           "colorbar": {
            "outlinewidth": 0,
            "ticks": ""
           }
          },
          "colorscale": {
           "diverging": [
            [
             0,
             "#8e0152"
            ],
            [
             0.1,
             "#c51b7d"
            ],
            [
             0.2,
             "#de77ae"
            ],
            [
             0.3,
             "#f1b6da"
            ],
            [
             0.4,
             "#fde0ef"
            ],
            [
             0.5,
             "#f7f7f7"
            ],
            [
             0.6,
             "#e6f5d0"
            ],
            [
             0.7,
             "#b8e186"
            ],
            [
             0.8,
             "#7fbc41"
            ],
            [
             0.9,
             "#4d9221"
            ],
            [
             1,
             "#276419"
            ]
           ],
           "sequential": [
            [
             0,
             "#0d0887"
            ],
            [
             0.1111111111111111,
             "#46039f"
            ],
            [
             0.2222222222222222,
             "#7201a8"
            ],
            [
             0.3333333333333333,
             "#9c179e"
            ],
            [
             0.4444444444444444,
             "#bd3786"
            ],
            [
             0.5555555555555556,
             "#d8576b"
            ],
            [
             0.6666666666666666,
             "#ed7953"
            ],
            [
             0.7777777777777778,
             "#fb9f3a"
            ],
            [
             0.8888888888888888,
             "#fdca26"
            ],
            [
             1,
             "#f0f921"
            ]
           ],
           "sequentialminus": [
            [
             0,
             "#0d0887"
            ],
            [
             0.1111111111111111,
             "#46039f"
            ],
            [
             0.2222222222222222,
             "#7201a8"
            ],
            [
             0.3333333333333333,
             "#9c179e"
            ],
            [
             0.4444444444444444,
             "#bd3786"
            ],
            [
             0.5555555555555556,
             "#d8576b"
            ],
            [
             0.6666666666666666,
             "#ed7953"
            ],
            [
             0.7777777777777778,
             "#fb9f3a"
            ],
            [
             0.8888888888888888,
             "#fdca26"
            ],
            [
             1,
             "#f0f921"
            ]
           ]
          },
          "colorway": [
           "#636efa",
           "#EF553B",
           "#00cc96",
           "#ab63fa",
           "#FFA15A",
           "#19d3f3",
           "#FF6692",
           "#B6E880",
           "#FF97FF",
           "#FECB52"
          ],
          "font": {
           "color": "#2a3f5f"
          },
          "geo": {
           "bgcolor": "white",
           "lakecolor": "white",
           "landcolor": "#E5ECF6",
           "showlakes": true,
           "showland": true,
           "subunitcolor": "white"
          },
          "hoverlabel": {
           "align": "left"
          },
          "hovermode": "closest",
          "mapbox": {
           "style": "light"
          },
          "paper_bgcolor": "white",
          "plot_bgcolor": "#E5ECF6",
          "polar": {
           "angularaxis": {
            "gridcolor": "white",
            "linecolor": "white",
            "ticks": ""
           },
           "bgcolor": "#E5ECF6",
           "radialaxis": {
            "gridcolor": "white",
            "linecolor": "white",
            "ticks": ""
           }
          },
          "scene": {
           "xaxis": {
            "backgroundcolor": "#E5ECF6",
            "gridcolor": "white",
            "gridwidth": 2,
            "linecolor": "white",
            "showbackground": true,
            "ticks": "",
            "zerolinecolor": "white"
           },
           "yaxis": {
            "backgroundcolor": "#E5ECF6",
            "gridcolor": "white",
            "gridwidth": 2,
            "linecolor": "white",
            "showbackground": true,
            "ticks": "",
            "zerolinecolor": "white"
           },
           "zaxis": {
            "backgroundcolor": "#E5ECF6",
            "gridcolor": "white",
            "gridwidth": 2,
            "linecolor": "white",
            "showbackground": true,
            "ticks": "",
            "zerolinecolor": "white"
           }
          },
          "shapedefaults": {
           "line": {
            "color": "#2a3f5f"
           }
          },
          "ternary": {
           "aaxis": {
            "gridcolor": "white",
            "linecolor": "white",
            "ticks": ""
           },
           "baxis": {
            "gridcolor": "white",
            "linecolor": "white",
            "ticks": ""
           },
           "bgcolor": "#E5ECF6",
           "caxis": {
            "gridcolor": "white",
            "linecolor": "white",
            "ticks": ""
           }
          },
          "title": {
           "x": 0.05
          },
          "xaxis": {
           "automargin": true,
           "gridcolor": "white",
           "linecolor": "white",
           "ticks": "",
           "title": {
            "standoff": 15
           },
           "zerolinecolor": "white",
           "zerolinewidth": 2
          },
          "yaxis": {
           "automargin": true,
           "gridcolor": "white",
           "linecolor": "white",
           "ticks": "",
           "title": {
            "standoff": 15
           },
           "zerolinecolor": "white",
           "zerolinewidth": 2
          }
         }
        },
        "title": {
         "text": "Performance Metrics Comparison"
        },
        "xaxis": {
         "title": {
          "text": "Categories"
         }
        },
        "yaxis": {
         "title": {
          "text": "Values"
         }
        }
       }
      },
      "text/html": [
       "<div>                            <div id=\"c10502a0-08b9-4b62-8f45-2b591c1cb4d6\" class=\"plotly-graph-div\" style=\"height:525px; width:100%;\"></div>            <script type=\"text/javascript\">                require([\"plotly\"], function(Plotly) {                    window.PLOTLYENV=window.PLOTLYENV || {};                                    if (document.getElementById(\"c10502a0-08b9-4b62-8f45-2b591c1cb4d6\")) {                    Plotly.newPlot(                        \"c10502a0-08b9-4b62-8f45-2b591c1cb4d6\",                        [{\"name\":\"Accuracy\",\"x\":[\"XGBoost\",\"DecisionTree\",\"Neural Network\"],\"y\":[0.9777150916784203,0.9561354019746121,0.9569816643159379],\"type\":\"bar\"},{\"name\":\"Recall\",\"x\":[\"XGBoost\",\"DecisionTree\",\"Neural Network\"],\"y\":[0.546031746031746,0.5282485875706214,0.0],\"type\":\"bar\"},{\"name\":\"Precision\",\"x\":[\"XGBoost\",\"DecisionTree\",\"Neural Network\"],\"y\":[0.9197860962566845,0.5649546827794562,0.0],\"type\":\"bar\"},{\"name\":\"F1-score\",\"x\":[\"XGBoost\",\"DecisionTree\",\"Neural Network\"],\"y\":[0.6852589641434262,0.545985401459854,0.0],\"type\":\"bar\"}],                        {\"template\":{\"data\":{\"histogram2dcontour\":[{\"type\":\"histogram2dcontour\",\"colorbar\":{\"outlinewidth\":0,\"ticks\":\"\"},\"colorscale\":[[0.0,\"#0d0887\"],[0.1111111111111111,\"#46039f\"],[0.2222222222222222,\"#7201a8\"],[0.3333333333333333,\"#9c179e\"],[0.4444444444444444,\"#bd3786\"],[0.5555555555555556,\"#d8576b\"],[0.6666666666666666,\"#ed7953\"],[0.7777777777777778,\"#fb9f3a\"],[0.8888888888888888,\"#fdca26\"],[1.0,\"#f0f921\"]]}],\"choropleth\":[{\"type\":\"choropleth\",\"colorbar\":{\"outlinewidth\":0,\"ticks\":\"\"}}],\"histogram2d\":[{\"type\":\"histogram2d\",\"colorbar\":{\"outlinewidth\":0,\"ticks\":\"\"},\"colorscale\":[[0.0,\"#0d0887\"],[0.1111111111111111,\"#46039f\"],[0.2222222222222222,\"#7201a8\"],[0.3333333333333333,\"#9c179e\"],[0.4444444444444444,\"#bd3786\"],[0.5555555555555556,\"#d8576b\"],[0.6666666666666666,\"#ed7953\"],[0.7777777777777778,\"#fb9f3a\"],[0.8888888888888888,\"#fdca26\"],[1.0,\"#f0f921\"]]}],\"heatmap\":[{\"type\":\"heatmap\",\"colorbar\":{\"outlinewidth\":0,\"ticks\":\"\"},\"colorscale\":[[0.0,\"#0d0887\"],[0.1111111111111111,\"#46039f\"],[0.2222222222222222,\"#7201a8\"],[0.3333333333333333,\"#9c179e\"],[0.4444444444444444,\"#bd3786\"],[0.5555555555555556,\"#d8576b\"],[0.6666666666666666,\"#ed7953\"],[0.7777777777777778,\"#fb9f3a\"],[0.8888888888888888,\"#fdca26\"],[1.0,\"#f0f921\"]]}],\"heatmapgl\":[{\"type\":\"heatmapgl\",\"colorbar\":{\"outlinewidth\":0,\"ticks\":\"\"},\"colorscale\":[[0.0,\"#0d0887\"],[0.1111111111111111,\"#46039f\"],[0.2222222222222222,\"#7201a8\"],[0.3333333333333333,\"#9c179e\"],[0.4444444444444444,\"#bd3786\"],[0.5555555555555556,\"#d8576b\"],[0.6666666666666666,\"#ed7953\"],[0.7777777777777778,\"#fb9f3a\"],[0.8888888888888888,\"#fdca26\"],[1.0,\"#f0f921\"]]}],\"contourcarpet\":[{\"type\":\"contourcarpet\",\"colorbar\":{\"outlinewidth\":0,\"ticks\":\"\"}}],\"contour\":[{\"type\":\"contour\",\"colorbar\":{\"outlinewidth\":0,\"ticks\":\"\"},\"colorscale\":[[0.0,\"#0d0887\"],[0.1111111111111111,\"#46039f\"],[0.2222222222222222,\"#7201a8\"],[0.3333333333333333,\"#9c179e\"],[0.4444444444444444,\"#bd3786\"],[0.5555555555555556,\"#d8576b\"],[0.6666666666666666,\"#ed7953\"],[0.7777777777777778,\"#fb9f3a\"],[0.8888888888888888,\"#fdca26\"],[1.0,\"#f0f921\"]]}],\"surface\":[{\"type\":\"surface\",\"colorbar\":{\"outlinewidth\":0,\"ticks\":\"\"},\"colorscale\":[[0.0,\"#0d0887\"],[0.1111111111111111,\"#46039f\"],[0.2222222222222222,\"#7201a8\"],[0.3333333333333333,\"#9c179e\"],[0.4444444444444444,\"#bd3786\"],[0.5555555555555556,\"#d8576b\"],[0.6666666666666666,\"#ed7953\"],[0.7777777777777778,\"#fb9f3a\"],[0.8888888888888888,\"#fdca26\"],[1.0,\"#f0f921\"]]}],\"mesh3d\":[{\"type\":\"mesh3d\",\"colorbar\":{\"outlinewidth\":0,\"ticks\":\"\"}}],\"scatter\":[{\"fillpattern\":{\"fillmode\":\"overlay\",\"size\":10,\"solidity\":0.2},\"type\":\"scatter\"}],\"parcoords\":[{\"type\":\"parcoords\",\"line\":{\"colorbar\":{\"outlinewidth\":0,\"ticks\":\"\"}}}],\"scatterpolargl\":[{\"type\":\"scatterpolargl\",\"marker\":{\"colorbar\":{\"outlinewidth\":0,\"ticks\":\"\"}}}],\"bar\":[{\"error_x\":{\"color\":\"#2a3f5f\"},\"error_y\":{\"color\":\"#2a3f5f\"},\"marker\":{\"line\":{\"color\":\"#E5ECF6\",\"width\":0.5},\"pattern\":{\"fillmode\":\"overlay\",\"size\":10,\"solidity\":0.2}},\"type\":\"bar\"}],\"scattergeo\":[{\"type\":\"scattergeo\",\"marker\":{\"colorbar\":{\"outlinewidth\":0,\"ticks\":\"\"}}}],\"scatterpolar\":[{\"type\":\"scatterpolar\",\"marker\":{\"colorbar\":{\"outlinewidth\":0,\"ticks\":\"\"}}}],\"histogram\":[{\"marker\":{\"pattern\":{\"fillmode\":\"overlay\",\"size\":10,\"solidity\":0.2}},\"type\":\"histogram\"}],\"scattergl\":[{\"type\":\"scattergl\",\"marker\":{\"colorbar\":{\"outlinewidth\":0,\"ticks\":\"\"}}}],\"scatter3d\":[{\"type\":\"scatter3d\",\"line\":{\"colorbar\":{\"outlinewidth\":0,\"ticks\":\"\"}},\"marker\":{\"colorbar\":{\"outlinewidth\":0,\"ticks\":\"\"}}}],\"scattermapbox\":[{\"type\":\"scattermapbox\",\"marker\":{\"colorbar\":{\"outlinewidth\":0,\"ticks\":\"\"}}}],\"scatterternary\":[{\"type\":\"scatterternary\",\"marker\":{\"colorbar\":{\"outlinewidth\":0,\"ticks\":\"\"}}}],\"scattercarpet\":[{\"type\":\"scattercarpet\",\"marker\":{\"colorbar\":{\"outlinewidth\":0,\"ticks\":\"\"}}}],\"carpet\":[{\"aaxis\":{\"endlinecolor\":\"#2a3f5f\",\"gridcolor\":\"white\",\"linecolor\":\"white\",\"minorgridcolor\":\"white\",\"startlinecolor\":\"#2a3f5f\"},\"baxis\":{\"endlinecolor\":\"#2a3f5f\",\"gridcolor\":\"white\",\"linecolor\":\"white\",\"minorgridcolor\":\"white\",\"startlinecolor\":\"#2a3f5f\"},\"type\":\"carpet\"}],\"table\":[{\"cells\":{\"fill\":{\"color\":\"#EBF0F8\"},\"line\":{\"color\":\"white\"}},\"header\":{\"fill\":{\"color\":\"#C8D4E3\"},\"line\":{\"color\":\"white\"}},\"type\":\"table\"}],\"barpolar\":[{\"marker\":{\"line\":{\"color\":\"#E5ECF6\",\"width\":0.5},\"pattern\":{\"fillmode\":\"overlay\",\"size\":10,\"solidity\":0.2}},\"type\":\"barpolar\"}],\"pie\":[{\"automargin\":true,\"type\":\"pie\"}]},\"layout\":{\"autotypenumbers\":\"strict\",\"colorway\":[\"#636efa\",\"#EF553B\",\"#00cc96\",\"#ab63fa\",\"#FFA15A\",\"#19d3f3\",\"#FF6692\",\"#B6E880\",\"#FF97FF\",\"#FECB52\"],\"font\":{\"color\":\"#2a3f5f\"},\"hovermode\":\"closest\",\"hoverlabel\":{\"align\":\"left\"},\"paper_bgcolor\":\"white\",\"plot_bgcolor\":\"#E5ECF6\",\"polar\":{\"bgcolor\":\"#E5ECF6\",\"angularaxis\":{\"gridcolor\":\"white\",\"linecolor\":\"white\",\"ticks\":\"\"},\"radialaxis\":{\"gridcolor\":\"white\",\"linecolor\":\"white\",\"ticks\":\"\"}},\"ternary\":{\"bgcolor\":\"#E5ECF6\",\"aaxis\":{\"gridcolor\":\"white\",\"linecolor\":\"white\",\"ticks\":\"\"},\"baxis\":{\"gridcolor\":\"white\",\"linecolor\":\"white\",\"ticks\":\"\"},\"caxis\":{\"gridcolor\":\"white\",\"linecolor\":\"white\",\"ticks\":\"\"}},\"coloraxis\":{\"colorbar\":{\"outlinewidth\":0,\"ticks\":\"\"}},\"colorscale\":{\"sequential\":[[0.0,\"#0d0887\"],[0.1111111111111111,\"#46039f\"],[0.2222222222222222,\"#7201a8\"],[0.3333333333333333,\"#9c179e\"],[0.4444444444444444,\"#bd3786\"],[0.5555555555555556,\"#d8576b\"],[0.6666666666666666,\"#ed7953\"],[0.7777777777777778,\"#fb9f3a\"],[0.8888888888888888,\"#fdca26\"],[1.0,\"#f0f921\"]],\"sequentialminus\":[[0.0,\"#0d0887\"],[0.1111111111111111,\"#46039f\"],[0.2222222222222222,\"#7201a8\"],[0.3333333333333333,\"#9c179e\"],[0.4444444444444444,\"#bd3786\"],[0.5555555555555556,\"#d8576b\"],[0.6666666666666666,\"#ed7953\"],[0.7777777777777778,\"#fb9f3a\"],[0.8888888888888888,\"#fdca26\"],[1.0,\"#f0f921\"]],\"diverging\":[[0,\"#8e0152\"],[0.1,\"#c51b7d\"],[0.2,\"#de77ae\"],[0.3,\"#f1b6da\"],[0.4,\"#fde0ef\"],[0.5,\"#f7f7f7\"],[0.6,\"#e6f5d0\"],[0.7,\"#b8e186\"],[0.8,\"#7fbc41\"],[0.9,\"#4d9221\"],[1,\"#276419\"]]},\"xaxis\":{\"gridcolor\":\"white\",\"linecolor\":\"white\",\"ticks\":\"\",\"title\":{\"standoff\":15},\"zerolinecolor\":\"white\",\"automargin\":true,\"zerolinewidth\":2},\"yaxis\":{\"gridcolor\":\"white\",\"linecolor\":\"white\",\"ticks\":\"\",\"title\":{\"standoff\":15},\"zerolinecolor\":\"white\",\"automargin\":true,\"zerolinewidth\":2},\"scene\":{\"xaxis\":{\"backgroundcolor\":\"#E5ECF6\",\"gridcolor\":\"white\",\"linecolor\":\"white\",\"showbackground\":true,\"ticks\":\"\",\"zerolinecolor\":\"white\",\"gridwidth\":2},\"yaxis\":{\"backgroundcolor\":\"#E5ECF6\",\"gridcolor\":\"white\",\"linecolor\":\"white\",\"showbackground\":true,\"ticks\":\"\",\"zerolinecolor\":\"white\",\"gridwidth\":2},\"zaxis\":{\"backgroundcolor\":\"#E5ECF6\",\"gridcolor\":\"white\",\"linecolor\":\"white\",\"showbackground\":true,\"ticks\":\"\",\"zerolinecolor\":\"white\",\"gridwidth\":2}},\"shapedefaults\":{\"line\":{\"color\":\"#2a3f5f\"}},\"annotationdefaults\":{\"arrowcolor\":\"#2a3f5f\",\"arrowhead\":0,\"arrowwidth\":1},\"geo\":{\"bgcolor\":\"white\",\"landcolor\":\"#E5ECF6\",\"subunitcolor\":\"white\",\"showland\":true,\"showlakes\":true,\"lakecolor\":\"white\"},\"title\":{\"x\":0.05},\"mapbox\":{\"style\":\"light\"}}},\"barmode\":\"group\",\"title\":{\"text\":\"Performance Metrics Comparison\"},\"xaxis\":{\"title\":{\"text\":\"Categories\"}},\"yaxis\":{\"title\":{\"text\":\"Values\"}}},                        {\"responsive\": true}                    ).then(function(){\n",
       "                            \n",
       "var gd = document.getElementById('c10502a0-08b9-4b62-8f45-2b591c1cb4d6');\n",
       "var x = new MutationObserver(function (mutations, observer) {{\n",
       "        var display = window.getComputedStyle(gd).display;\n",
       "        if (!display || display === 'none') {{\n",
       "            console.log([gd, 'removed!']);\n",
       "            Plotly.purge(gd);\n",
       "            observer.disconnect();\n",
       "        }}\n",
       "}});\n",
       "\n",
       "// Listen for the removal of the full notebook cells\n",
       "var notebookContainer = gd.closest('#notebook-container');\n",
       "if (notebookContainer) {{\n",
       "    x.observe(notebookContainer, {childList: true});\n",
       "}}\n",
       "\n",
       "// Listen for the clearing of the current output cell\n",
       "var outputEl = gd.closest('.output');\n",
       "if (outputEl) {{\n",
       "    x.observe(outputEl, {childList: true});\n",
       "}}\n",
       "\n",
       "                        })                };                });            </script>        </div>"
      ]
     },
     "metadata": {},
     "output_type": "display_data"
    }
   ],
   "source": [
    "import plotly.graph_objects as go\n",
    "\n",
    "# Data\n",
    "categories = ['XGBoost', 'DecisionTree', 'Neural Network']\n",
    "accuracy_values = [accuracy1, accuracy2, accuracy3]\n",
    "recall_values = [recall1, recall2, recall3]\n",
    "precision_values = [precision1, precision2, precision3]\n",
    "f1_values = [f1_score1, f1_score2, f1_score3]\n",
    "\n",
    "# Create bar plots\n",
    "fig = go.Figure()\n",
    "\n",
    "# Accuracy bar plot\n",
    "fig.add_trace(go.Bar(x=categories, y=accuracy_values, name='Accuracy'))\n",
    "# Recall bar plot\n",
    "fig.add_trace(go.Bar(x=categories, y=recall_values, name='Recall'))\n",
    "# Precision bar plot\n",
    "fig.add_trace(go.Bar(x=categories, y=precision_values, name='Precision'))\n",
    "# F1-score bar plot\n",
    "fig.add_trace(go.Bar(x=categories, y=f1_values, name='F1-score'))\n",
    "\n",
    "# Update layout\n",
    "fig.update_layout(barmode='group', title='Performance Metrics Comparison',\n",
    "                  xaxis_title='Categories', yaxis_title='Values')\n",
    "\n",
    "# Show plot\n",
    "fig.show()\n"
   ]
  },
  {
   "cell_type": "code",
   "execution_count": null,
   "id": "8bbf599a",
   "metadata": {},
   "outputs": [],
   "source": [
    "#requirement.txt\n",
    "pandas==2.1.2\n",
    "sklearn==1.3.2\n",
    "keras==2.14.0\n",
    "plotly==5.9.0\n",
    "numpy==1.23.5\n",
    "matplotlib==3.7.0\n",
    "xgboost==2.0.3"
   ]
  },
  {
   "cell_type": "code",
   "execution_count": 1,
   "id": "86ee5609",
   "metadata": {},
   "outputs": [],
   "source": [
    "import warnings\n",
    "warnings.filterwarnings('ignore')"
   ]
  }
 ],
 "metadata": {
  "kernelspec": {
   "display_name": "Python 3 (ipykernel)",
   "language": "python",
   "name": "python3"
  },
  "language_info": {
   "codemirror_mode": {
    "name": "ipython",
    "version": 3
   },
   "file_extension": ".py",
   "mimetype": "text/x-python",
   "name": "python",
   "nbconvert_exporter": "python",
   "pygments_lexer": "ipython3",
   "version": "3.10.9"
  }
 },
 "nbformat": 4,
 "nbformat_minor": 5
}
